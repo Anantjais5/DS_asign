{
 "cells": [
  {
   "cell_type": "code",
   "execution_count": 1,
   "id": "dc17e837-20ff-4dd5-b8d9-c12218b0adb0",
   "metadata": {},
   "outputs": [
    {
     "data": {
      "text/plain": [
       "'hello my self anant'"
      ]
     },
     "execution_count": 1,
     "metadata": {},
     "output_type": "execute_result"
    }
   ],
   "source": [
    "#1.write a code to a reverse strings.\n",
    "str=\"hello my self anant\"\n",
    "str"
   ]
  },
  {
   "cell_type": "code",
   "execution_count": 2,
   "id": "386c5bd2-9cc3-4da1-ac8e-46ba3daaeada",
   "metadata": {},
   "outputs": [
    {
     "data": {
      "text/plain": [
       "'tnana fles ym olleh'"
      ]
     },
     "execution_count": 2,
     "metadata": {},
     "output_type": "execute_result"
    }
   ],
   "source": [
    "str[::-1]"
   ]
  },
  {
   "cell_type": "code",
   "execution_count": 3,
   "id": "f38ad5cb-71aa-464a-b493-27f2644281d0",
   "metadata": {},
   "outputs": [
    {
     "name": "stdout",
     "output_type": "stream",
     "text": [
      "num of vowels in string: 6\n"
     ]
    }
   ],
   "source": [
    "#2.Write a code to count a number of vowels in a string.\n",
    "\n",
    "str=\"hello good morning\"\n",
    "vowels=\"aeiouAEIOU\"\n",
    "vow_count=0\n",
    "for i in str:\n",
    "    if i in vowels:\n",
    "        vow_count=vow_count+1\n",
    "print(\"num of vowels in string:\" , +vow_count)"
   ]
  },
  {
   "cell_type": "code",
   "execution_count": 4,
   "id": "e4729fce-f293-4007-8f21-c3f0bbff6785",
   "metadata": {},
   "outputs": [
    {
     "name": "stdout",
     "output_type": "stream",
     "text": [
      "non palindrome\n"
     ]
    }
   ],
   "source": [
    "#3.write a code to check the given strings is palindrome or non palindrome.\n",
    "\n",
    "str= \"good morning\"\n",
    "revstr=str[::-1]\n",
    "if str==revstr:\n",
    "    print(\"palindrome\")\n",
    "else:\n",
    "    print(\"non palindrome\")"
   ]
  },
  {
   "cell_type": "code",
   "execution_count": 5,
   "id": "580c4cef-94f0-469e-8e64-a1e387d47c5f",
   "metadata": {},
   "outputs": [
    {
     "name": "stdout",
     "output_type": "stream",
     "text": [
      "palindrome\n"
     ]
    }
   ],
   "source": [
    "\n",
    "\n",
    "str= \"madam\"\n",
    "revstr=str[::-1]\n",
    "if str==revstr:\n",
    "    print(\"palindrome\")\n",
    "else:\n",
    "    print(\"non palindrome\")"
   ]
  },
  {
   "cell_type": "code",
   "execution_count": 6,
   "id": "c925fd08-3f0d-4154-9779-5b534cc6fb0f",
   "metadata": {},
   "outputs": [
    {
     "name": "stdout",
     "output_type": "stream",
     "text": [
      "not anagrams\n"
     ]
    }
   ],
   "source": [
    "#4.write a code to check if two given strings are anagrams of each other.\n",
    "\n",
    "str1=\"hello\"\n",
    "str2=\"world\"\n",
    "a=sorted(str1)\n",
    "b=sorted(str2)\n",
    "if a==b:\n",
    "    print(\"anagrams\")\n",
    "else:\n",
    "    print(\"not anagrams\")"
   ]
  },
  {
   "cell_type": "code",
   "execution_count": 7,
   "id": "bb130d18-82ed-41ce-9c86-e0c7443ca6fd",
   "metadata": {},
   "outputs": [
    {
     "name": "stdout",
     "output_type": "stream",
     "text": [
      "anagrams\n"
     ]
    }
   ],
   "source": [
    "\n",
    "\n",
    "str1=\"cat\"\n",
    "str2=\"act\"\n",
    "a=sorted(str1)\n",
    "b=sorted(str2)\n",
    "if a==b:\n",
    "    print(\"anagrams\")\n",
    "else:\n",
    "    print(\"not anagrams\")"
   ]
  },
  {
   "cell_type": "code",
   "execution_count": 8,
   "id": "779881d5-f98d-4ef0-99a9-db766439d2d3",
   "metadata": {},
   "outputs": [
    {
     "name": "stdout",
     "output_type": "stream",
     "text": [
      "3\n"
     ]
    }
   ],
   "source": [
    "#5.write a code to find all occurences of a given substrings with another strings.\n",
    "str=\"hello wellcome to pwskills\"\n",
    "substrings=\"o\"\n",
    "find=str.count(substrings)\n",
    "print(find)\n"
   ]
  },
  {
   "cell_type": "code",
   "execution_count": 9,
   "id": "d8f0bd2b-01c7-46d2-bd73-1a02b643ac33",
   "metadata": {},
   "outputs": [
    {
     "name": "stdout",
     "output_type": "stream",
     "text": [
      "{'a': 4, 'e': 5, 'i': 4, 'j': 3, 'd': 4, 'o': 1, 'c': 2, 's': 1, 'n': 3}\n"
     ]
    }
   ],
   "source": [
    "#6.Write a code to perform basic string compression using the counts of repeated characters.\n",
    "str=\"aaaaeeeeeiiiijdocdsnjdncjdn\"\n",
    "char_count={}\n",
    "for char in str:\n",
    "    if char in char_count:\n",
    "        char_count[char]+=1\n",
    "    else:\n",
    "        char_count[char]=1\n",
    "print(char_count)"
   ]
  },
  {
   "cell_type": "code",
   "execution_count": 10,
   "id": "48e1b356-32b8-48da-84c8-695b8df023bd",
   "metadata": {},
   "outputs": [],
   "source": [
    "#7.write a code to determine if a string has all unique charaeters.\n",
    "\n",
    "def uique_char(string):\n",
    "    \n",
    "    for char in string:\n",
    "        if string.count(char)>1:\n",
    "            return False\n",
    "        return True"
   ]
  },
  {
   "cell_type": "code",
   "execution_count": 11,
   "id": "9952782b-6810-40a1-9e6e-59253bdd2655",
   "metadata": {},
   "outputs": [
    {
     "data": {
      "text/plain": [
       "True"
      ]
     },
     "execution_count": 11,
     "metadata": {},
     "output_type": "execute_result"
    }
   ],
   "source": [
    " uique_char(\"pw skills \")"
   ]
  },
  {
   "cell_type": "code",
   "execution_count": 12,
   "id": "09394cd5-3cab-433e-b720-1952c8b567a1",
   "metadata": {},
   "outputs": [
    {
     "data": {
      "text/plain": [
       "False"
      ]
     },
     "execution_count": 12,
     "metadata": {},
     "output_type": "execute_result"
    }
   ],
   "source": [
    "#8.here it is not a unique char.i is a duplicate char.\n",
    "uique_char(\"pw pw pw\")"
   ]
  },
  {
   "cell_type": "code",
   "execution_count": 13,
   "id": "795fc7c2-9a50-4478-83b5-f5d516b082e1",
   "metadata": {},
   "outputs": [
    {
     "data": {
      "text/plain": [
       "'HI ,WELLCOME TO PW SKILLS'"
      ]
     },
     "execution_count": 13,
     "metadata": {},
     "output_type": "execute_result"
    }
   ],
   "source": [
    "#9.write a code to conver the string to uppercase and lowercase.\n",
    "str=\"hi ,wellcome to pw skills\"\n",
    "str.upper()"
   ]
  },
  {
   "cell_type": "code",
   "execution_count": 14,
   "id": "1d7227f6-06ce-4783-a328-8260ed35dd27",
   "metadata": {},
   "outputs": [
    {
     "data": {
      "text/plain": [
       "'hi ,wellcome to pw skills'"
      ]
     },
     "execution_count": 14,
     "metadata": {},
     "output_type": "execute_result"
    }
   ],
   "source": [
    "str1=\"HI ,WELLCOME TO PW SKILLS\"\n",
    "str1.lower()"
   ]
  },
  {
   "cell_type": "code",
   "execution_count": 15,
   "id": "3c1c3208-5f28-4ce8-9cea-55957db14843",
   "metadata": {},
   "outputs": [
    {
     "data": {
      "text/plain": [
       "28"
      ]
     },
     "execution_count": 15,
     "metadata": {},
     "output_type": "execute_result"
    }
   ],
   "source": [
    "#10.write a code to count the number of words in a strings.\n",
    "str2=\"hello, wellcome to pw skills\"\n",
    "len(str2)"
   ]
  },
  {
   "cell_type": "code",
   "execution_count": 16,
   "id": "abbe308c-85c5-4fcf-a908-e575f021bcb4",
   "metadata": {},
   "outputs": [
    {
     "name": "stdout",
     "output_type": "stream",
     "text": [
      "pwskills\n"
     ]
    }
   ],
   "source": [
    "str9=\"pw\"\n",
    "str8=\"skills\"\n",
    "conca=\"\".join([str9,str8])\n",
    "print(conca)"
   ]
  },
  {
   "cell_type": "code",
   "execution_count": 17,
   "id": "ab9bcdf9-ebee-4ea3-a989-e6630ef84c21",
   "metadata": {},
   "outputs": [
    {
     "data": {
      "text/plain": [
       "[1, 12, 54, 10, 16, 70, 10, 25, 10, 54, 10]"
      ]
     },
     "execution_count": 17,
     "metadata": {},
     "output_type": "execute_result"
    }
   ],
   "source": [
    "#11.write a code to Remove All Occurrences of a Specific Element from a List in Python\n",
    "lis=[1,12,54,10,16,70,10,25,10,54,10]\n",
    "lis"
   ]
  },
  {
   "cell_type": "code",
   "execution_count": 18,
   "id": "be470905-51b3-4907-89b3-41ff0d922f2b",
   "metadata": {},
   "outputs": [
    {
     "name": "stdout",
     "output_type": "stream",
     "text": [
      "[1, 12, 54, 16, 70, 25, 54]\n"
     ]
    }
   ],
   "source": [
    "lis=[num for num in lis if num!=10]\n",
    "print(lis)"
   ]
  },
  {
   "cell_type": "code",
   "execution_count": 19,
   "id": "140c5a6f-f5d0-433c-87cb-388e3f8ec661",
   "metadata": {},
   "outputs": [],
   "source": [
    "#12.implement a code to find the second largest number in given list of integers.\n",
    "#first we will sort the integers into ascending order and then we will get the second highest number with the help of indexing.\n",
    "num=[10,20,35,39,84,67,14,82,98,63]\n",
    "num.sort()\n"
   ]
  },
  {
   "cell_type": "code",
   "execution_count": 20,
   "id": "341dd408-9be3-46ee-8f27-8fb6c59f6801",
   "metadata": {},
   "outputs": [
    {
     "data": {
      "text/plain": [
       "[10, 14, 20, 35, 39, 63, 67, 82, 84, 98]"
      ]
     },
     "execution_count": 20,
     "metadata": {},
     "output_type": "execute_result"
    }
   ],
   "source": [
    "num"
   ]
  },
  {
   "cell_type": "code",
   "execution_count": 21,
   "id": "996f4b12-4d2c-41b3-91c3-06e479b74f66",
   "metadata": {},
   "outputs": [
    {
     "data": {
      "text/plain": [
       "84"
      ]
     },
     "execution_count": 21,
     "metadata": {},
     "output_type": "execute_result"
    }
   ],
   "source": [
    "num[-2]"
   ]
  },
  {
   "cell_type": "code",
   "execution_count": 22,
   "id": "f437807f-ed06-444b-a2f6-d91625252b17",
   "metadata": {},
   "outputs": [
    {
     "name": "stdout",
     "output_type": "stream",
     "text": [
      "{12: 2, 24: 2, 51: 3, 36: 2, 25: 1, 42: 1}\n"
     ]
    }
   ],
   "source": [
    "#13.create a code to count the occurences of each elements in a list and return a dictionay with elements as key and their count as values.\n",
    "my_list=[12,24,51,24,36,25,51,42,51,36,12]\n",
    "diction={}\n",
    "for element in my_list:\n",
    "    if element in diction:\n",
    "        diction[element]+=1\n",
    "    else:\n",
    "        diction[element]=1\n",
    "print(diction)\n",
    "        "
   ]
  },
  {
   "cell_type": "code",
   "execution_count": 23,
   "id": "204d651e-2a92-4f6f-8ad3-385d8207658d",
   "metadata": {},
   "outputs": [
    {
     "name": "stdout",
     "output_type": "stream",
     "text": [
      "before reverse: [12, 24, 51, 24, 36, 25, 51, 42, 51, 36, 12]\n",
      "after reverse: [12, 36, 51, 42, 51, 25, 36, 24, 51, 24, 12]\n"
     ]
    }
   ],
   "source": [
    "#14.write a code to reverse a list in place without using any built-in reverse function.\n",
    "my_list=[12,24,51,24,36,25,51,42,51,36,12]\n",
    "rev=my_list[::-1]\n",
    "print(\"before reverse:\",my_list)\n",
    "print(\"after reverse:\", rev)"
   ]
  },
  {
   "cell_type": "code",
   "execution_count": 24,
   "id": "25b73abe-7efb-4786-9f20-07c92dbf94ff",
   "metadata": {},
   "outputs": [
    {
     "name": "stdout",
     "output_type": "stream",
     "text": [
      "[10, 20, 30, 33, 2, 55, 32, 22, 45, 78, 98]\n"
     ]
    }
   ],
   "source": [
    "#15.implement a code to find and remove duplicates from a list while preserving th original order of element.\n",
    "lis = [10, 10, 20, 30, 33, 2, 55, 32, 55, 22, 45, 78, 98]\n",
    "after_removing= []\n",
    "seen = set()\n",
    "for element in lis:\n",
    "    if element not in seen:\n",
    "        seen.add(element)\n",
    "        after_removing.append(element)\n",
    "\n",
    "print(after_removing)"
   ]
  },
  {
   "cell_type": "code",
   "execution_count": 25,
   "id": "8c93aafa-0fee-412b-b63d-ecc4b4358d6c",
   "metadata": {},
   "outputs": [
    {
     "name": "stdout",
     "output_type": "stream",
     "text": [
      "not sorted\n"
     ]
    }
   ],
   "source": [
    "#16.create a code to check if given list is sorted (either in ascending or descending order) or not.\n",
    "list1=[3,5,7,2,53,21]\n",
    "chck=list1[:]\n",
    "list1.sort()\n",
    "if list1==chck:\n",
    "    print(\"sorted in asscending\")\n",
    "else:\n",
    "    print(\"not sorted\")"
   ]
  },
  {
   "cell_type": "code",
   "execution_count": 26,
   "id": "8426dac4-0f22-43fb-a490-1923e03bb688",
   "metadata": {},
   "outputs": [
    {
     "name": "stdout",
     "output_type": "stream",
     "text": [
      "sorted in asscending\n"
     ]
    }
   ],
   "source": [
    "#sorted\n",
    "list1=[3,5,7,10,13,14,18]\n",
    "chck=list1[:]\n",
    "list1.sort()\n",
    "if list1==chck:\n",
    "    print(\"sorted in asscending\")\n",
    "else:\n",
    "    print(\"not sorted\")"
   ]
  },
  {
   "cell_type": "code",
   "execution_count": 27,
   "id": "b98c5ef9-0e89-4372-87b9-8b88b1bcad6c",
   "metadata": {},
   "outputs": [
    {
     "name": "stdout",
     "output_type": "stream",
     "text": [
      "[10, 25, 32, 45, 52, 85, 19, 24, 35, 56, 64, 82]\n"
     ]
    }
   ],
   "source": [
    "#17.write a code to merge two sorted list into a singl sorted list.\n",
    "\n",
    "\n",
    "lis1=[10,25,45,85,32,52]\n",
    "lis2=[19,35,64,82,56,24]\n",
    "lis1.sort()\n",
    "lis2.sort()\n",
    "lis3=lis1+lis2\n",
    "lis3.sort\n",
    "print(lis3)"
   ]
  },
  {
   "cell_type": "code",
   "execution_count": 28,
   "id": "e2c81374-ff21-4fdb-acfd-32a96b418754",
   "metadata": {},
   "outputs": [
    {
     "name": "stdout",
     "output_type": "stream",
     "text": [
      "[25, 84, 36]\n"
     ]
    }
   ],
   "source": [
    "#18.implement code to find the intersection of two given list.\n",
    "list1=[25,84,56,36,24]\n",
    "list2=[35,25,51,84,36,]\n",
    "intersection_list=[]\n",
    "for i in list1:\n",
    "    if i in list2:\n",
    "        intersection_list.append(i)\n",
    "print(intersection_list)"
   ]
  },
  {
   "cell_type": "code",
   "execution_count": 29,
   "id": "1dbe0c5b-2510-44b6-8d57-377cfafcdf56",
   "metadata": {},
   "outputs": [
    {
     "name": "stdout",
     "output_type": "stream",
     "text": [
      "[1, 2, 3, 4]\n"
     ]
    }
   ],
   "source": [
    "#19.crreate a code to find the union of two list.\n",
    "list=[1,2,3,4,5,6,7]\n",
    "list1=[5,6,7,8,9]\n",
    "union_list=[]\n",
    "\n",
    "for i in list:\n",
    "    if(i  not in list1):\n",
    "        union_list.append(i)\n",
    "print(union_list)\n"
   ]
  },
  {
   "cell_type": "code",
   "execution_count": 30,
   "id": "4eee7bdc-3849-4105-950e-0ecf04418ddc",
   "metadata": {},
   "outputs": [
    {
     "name": "stdout",
     "output_type": "stream",
     "text": [
      "['ishan', 'maxi', 'rohit', 'virat', 'rahul']\n"
     ]
    }
   ],
   "source": [
    "#20.write a code to shuffle list in random without ussing any in built shuffle function.\n",
    "import random\n",
    "list3=['rohit','virat','ishan','rahul','maxi']\n",
    "random.shuffle(list3)\n",
    "print(list3)"
   ]
  },
  {
   "cell_type": "code",
   "execution_count": 31,
   "id": "018e6c24-c3ca-464b-adb7-54a370b77ba1",
   "metadata": {},
   "outputs": [
    {
     "name": "stdout",
     "output_type": "stream",
     "text": [
      "(3, 4, 5)\n"
     ]
    }
   ],
   "source": [
    "#21.write a code that take two tuples as input and returns a new tuples containing elements that are common to both inputs tuples.\n",
    "tuple1 = (1, 2, 3, 4, 5)\n",
    "tuple2 = (3, 4, 5, 6, 7)\n",
    "common_elements = tuple(set(tuple1).intersection(set(tuple2)))\n",
    "print(common_elements)"
   ]
  },
  {
   "cell_type": "code",
   "execution_count": 32,
   "id": "91d7e780-0ad9-42d6-8b52-6f7ecfad386e",
   "metadata": {},
   "outputs": [],
   "source": [
    "#22.create a code that prompts the user to enter two sets of integers separated by commas. then print th intersection of these two sets. "
   ]
  },
  {
   "cell_type": "code",
   "execution_count": 33,
   "id": "b0e4039b-2147-4465-80e5-4113d0adad0c",
   "metadata": {},
   "outputs": [
    {
     "name": "stdout",
     "output_type": "stream",
     "text": [
      "{2, 4, 6}\n"
     ]
    }
   ],
   "source": [
    "a={2,4,6,8,3}\n",
    "b={4,6,9,5,2}\n",
    "intersection = a & b\n",
    "print(intersection)"
   ]
  },
  {
   "cell_type": "code",
   "execution_count": 34,
   "id": "d36802f7-5697-48be-b389-4dd6e08b171c",
   "metadata": {},
   "outputs": [],
   "source": [
    "#23.Write a code to concatenate two tuples. The function should take two tuples as input and return a new tuple containing elements from both input tuples.\n",
    "tuple1 = (0,5,6,7,3)\n",
    "tuple2=(2,6,5,6,2)\n",
    "\n",
    "\n",
    "\n",
    "\n",
    "concatenate_tuples=tuple1+tuple2\n",
    "\n"
   ]
  },
  {
   "cell_type": "code",
   "execution_count": 35,
   "id": "c4afd8a7-9337-4eac-b346-363ef6c5c193",
   "metadata": {},
   "outputs": [
    {
     "data": {
      "text/plain": [
       "(0, 5, 6, 7, 3, 2, 6, 5, 6, 2)"
      ]
     },
     "execution_count": 35,
     "metadata": {},
     "output_type": "execute_result"
    }
   ],
   "source": [
    "concatenate_tuples"
   ]
  },
  {
   "cell_type": "code",
   "execution_count": 36,
   "id": "a2b57583-560e-4819-80f2-42782b6e8843",
   "metadata": {},
   "outputs": [
    {
     "name": "stdout",
     "output_type": "stream",
     "text": [
      "{'pineapple', 'mango'}\n"
     ]
    }
   ],
   "source": [
    "#24.develope a code that prompts the user to input two sets of strings then print element that are present in the first set but not in the second set.\n",
    "s1={\"mango\",\"apple\",\"banana\",\"pineapple\"}\n",
    "s2={\"guava\",\"apple\",\"banana\",\"pomgranade\"}\n",
    "not_in_s2=(s1-s2)\n",
    "print(not_in_s2)"
   ]
  },
  {
   "cell_type": "code",
   "execution_count": 37,
   "id": "af6c1b72-2421-447d-8ad7-0d4e21275c1c",
   "metadata": {},
   "outputs": [
    {
     "name": "stdout",
     "output_type": "stream",
     "text": [
      "('39', '61')\n"
     ]
    }
   ],
   "source": [
    "#25.create a code that takes a tupple and two integers as input . the function should return a new tuple containing elements from the original tuple with in specified range of indices.\n",
    "tup=(\"39\",\"61\")\n",
    "new_tup=tup[::]\n",
    "print(new_tup)"
   ]
  },
  {
   "cell_type": "code",
   "execution_count": 38,
   "id": "1362e148-2fd8-4cce-a77f-85dd409a739a",
   "metadata": {},
   "outputs": [
    {
     "name": "stdout",
     "output_type": "stream",
     "text": [
      "{'d', 'q', 'o', 's', 'b', 'j', 'e', 'l'}\n"
     ]
    }
   ],
   "source": [
    "#26. write a code that prompts the user to input two sets of characters. then , print the union of these two sets.\n",
    "\n",
    "aw={\"l\",\"j\",\"e\",\"q\",\"d\"}\n",
    "aq={\"o\",\"q\",\"l\",\"b\",\"s\"}\n",
    "union=aw|aq\n",
    "print(union)"
   ]
  },
  {
   "cell_type": "code",
   "execution_count": 39,
   "id": "055187a6-0cce-4f86-8431-5f88c8b2bd21",
   "metadata": {},
   "outputs": [
    {
     "data": {
      "text/plain": [
       "64"
      ]
     },
     "execution_count": 39,
     "metadata": {},
     "output_type": "execute_result"
    }
   ],
   "source": [
    "#27.develop  a code that takes a tuple of integers as input . the fuction should return the maximum and miimum values from the tuple usinng tuple unpackig.\n",
    "\n",
    "a=(124,185,64,168,81)\n",
    "min(a)"
   ]
  },
  {
   "cell_type": "code",
   "execution_count": 40,
   "id": "30985547-9f17-464d-855b-fabfa06db6c0",
   "metadata": {},
   "outputs": [
    {
     "data": {
      "text/plain": [
       "185"
      ]
     },
     "execution_count": 40,
     "metadata": {},
     "output_type": "execute_result"
    }
   ],
   "source": [
    "max(a)"
   ]
  },
  {
   "cell_type": "code",
   "execution_count": 41,
   "id": "fedc2be9-9d6b-48e0-b002-e6b5a13dd6ee",
   "metadata": {},
   "outputs": [
    {
     "name": "stdout",
     "output_type": "stream",
     "text": [
      "{69, 11, 44, 46, 83, 22, 55, 63}\n"
     ]
    }
   ],
   "source": [
    "#28.CREATE A CODE THAT DEFINES TOW SETS OF INTEGERS.THEN,PRINT THE UNION , INTERSECTION, AND DIFFERENCE OF THESE TWO SETS\n",
    "int_set={22,55,11,44,63}\n",
    "nt_set={22,69,63,46,83}\n",
    "union=int_set|nt_set\n",
    "print(union)"
   ]
  },
  {
   "cell_type": "code",
   "execution_count": 42,
   "id": "190c2d1d-c34f-450b-8412-a64eb00bbcdf",
   "metadata": {},
   "outputs": [
    {
     "name": "stdout",
     "output_type": "stream",
     "text": [
      "{22, 63}\n"
     ]
    }
   ],
   "source": [
    "intersection=int_set&nt_set\n",
    "print(intersection)"
   ]
  },
  {
   "cell_type": "code",
   "execution_count": 43,
   "id": "9b866b85-acca-4529-8ec6-d128dd20352d",
   "metadata": {},
   "outputs": [
    {
     "name": "stdout",
     "output_type": "stream",
     "text": [
      "{11, 44, 55}\n"
     ]
    }
   ],
   "source": [
    "differnece=int_set-nt_set\n",
    "print(differnece)"
   ]
  },
  {
   "cell_type": "code",
   "execution_count": 44,
   "id": "c53b4471-a20d-41fa-b687-65c22e139d1d",
   "metadata": {},
   "outputs": [
    {
     "name": "stdout",
     "output_type": "stream",
     "text": [
      "{83, 69, 46}\n"
     ]
    }
   ],
   "source": [
    "differnece=nt_set-int_set\n",
    "print(differnece)"
   ]
  },
  {
   "cell_type": "code",
   "execution_count": 45,
   "id": "954d4c44-0247-4330-99a4-64120f324c77",
   "metadata": {},
   "outputs": [
    {
     "name": "stdout",
     "output_type": "stream",
     "text": [
      "2\n"
     ]
    }
   ],
   "source": [
    "#29.write a code that takes a tuple and an element as input.the function should return the count of occurences of the given element in the tupple\n",
    "\n",
    "\n",
    "\n",
    "tup=(22,54,71,25,12,53,12,63)\n",
    "ele=12\n",
    "count_elem=tup.count(ele)\n",
    "print(count_elem)"
   ]
  },
  {
   "cell_type": "code",
   "execution_count": 46,
   "id": "399e19a4-71ed-47d8-8e1a-d9b6c40685fc",
   "metadata": {},
   "outputs": [
    {
     "name": "stdout",
     "output_type": "stream",
     "text": [
      "{'21', '43'}\n",
      "{'82', '36'}\n"
     ]
    }
   ],
   "source": [
    "#30.develope a code that prompts the user to input two sets of string .then print the symmetric diffrence of these two sets.\n",
    "a={\"21\",\"43\",\"95\",\"24\"}\n",
    "b={\"24\",\"95\",\"36\",\"82\"}\n",
    "\n",
    "dif1=a-b\n",
    "dif2=b-a\n",
    "print(dif1)\n",
    "print(dif2)"
   ]
  },
  {
   "cell_type": "code",
   "execution_count": 47,
   "id": "c783bcb1-5eff-42f6-861a-c4ea0c43b9a2",
   "metadata": {},
   "outputs": [
    {
     "name": "stdout",
     "output_type": "stream",
     "text": [
      "{'Physics': 89, 'Bio': 82, 'chem': 95}\n"
     ]
    }
   ],
   "source": [
    "#31.write a code that takes a  and list of words as input and returns a dictionary where the keys are unique words the values are the frequencies of those words in the input list\n",
    "\n",
    "sub_marks=[('Physics',89),('Bio',82),('chem',95)]\n",
    "d=dict(sub_marks)\n",
    "print (d)"
   ]
  },
  {
   "cell_type": "code",
   "execution_count": 48,
   "id": "27f70b71-836f-4de2-b9fd-f1099763e9f2",
   "metadata": {},
   "outputs": [],
   "source": [
    "#32.write a code to merge two dictionaries as input and merges them into asingle dictionaries.if there are common keys , the values should be added together\n",
    "d={'Physics': 89, 'Bio': 82, 'chem': 95}\n",
    "b={'comp':91, 'eng':95 , 'math':86}\n",
    "d.update(b)"
   ]
  },
  {
   "cell_type": "code",
   "execution_count": 49,
   "id": "c8b48de9-e265-4c03-8f7b-1f2b77206c1e",
   "metadata": {},
   "outputs": [
    {
     "data": {
      "text/plain": [
       "{'Physics': 89, 'Bio': 82, 'chem': 95, 'comp': 91, 'eng': 95, 'math': 86}"
      ]
     },
     "execution_count": 49,
     "metadata": {},
     "output_type": "execute_result"
    }
   ],
   "source": [
    "d"
   ]
  },
  {
   "cell_type": "code",
   "execution_count": 50,
   "id": "a9f5b36c-99cb-404f-832b-ec47f9f6a08c",
   "metadata": {},
   "outputs": [],
   "source": [
    "#34.write a cdoe that takes a dictonriies as input and returns a sorted versio of it based on th value . you can choose whether to sort in ascending and decending order\n",
    "d={'Physics': 89, 'Bio': 82, 'Chem': 95}\n",
    "sorted_dict = dict(sorted(d.items()))"
   ]
  },
  {
   "cell_type": "code",
   "execution_count": 51,
   "id": "24963681-4aab-4298-a8bc-e12c2e488721",
   "metadata": {},
   "outputs": [
    {
     "data": {
      "text/plain": [
       "{'Bio': 82, 'Chem': 95, 'Physics': 89}"
      ]
     },
     "execution_count": 51,
     "metadata": {},
     "output_type": "execute_result"
    }
   ],
   "source": [
    "sorted_dict"
   ]
  },
  {
   "cell_type": "code",
   "execution_count": 52,
   "id": "58d6bcfa-b0b2-4dca-99ea-4ea2b85785be",
   "metadata": {},
   "outputs": [
    {
     "name": "stdout",
     "output_type": "stream",
     "text": [
      "{'Physics': 89, 'Chem': 95, 'Bio': 82}\n"
     ]
    }
   ],
   "source": [
    "sorted_dict1 = dict(sorted(d.items(), reverse=True))\n",
    "print(sorted_dict1)"
   ]
  },
  {
   "cell_type": "code",
   "execution_count": 53,
   "id": "6d4c0794-6243-41c9-a83c-f01c3f34642f",
   "metadata": {},
   "outputs": [],
   "source": [
    "#33.Write a code to access a value in a nested dictionary. The function should take the dictionary and a list of keys as input and return the corresponding value. If any of the keys do not exist in the dictionary the function should return None"
   ]
  },
  {
   "cell_type": "code",
   "execution_count": 54,
   "id": "03fa4da4-abd7-46ef-979c-daa39211b27f",
   "metadata": {},
   "outputs": [
    {
     "name": "stdout",
     "output_type": "stream",
     "text": [
      "{'outdoor': ['cricekt', 'football', 'badminton'], 'indoor': ['chess', 'ludo']}\n"
     ]
    }
   ],
   "source": [
    "#35.write a code that inverts a dictionaries, swapping key and values .ensure that the inverted dictionaries correctly handles cases where multiple keys have the same value by storing the keys as a list int he inverted  dictionaries\n",
    "\n",
    "\n",
    "\n",
    "dict1 = {'cricekt': 'outdoor', 'football': 'outdoor', 'chess': 'indoor', 'badminton':'outdoor','ludo':'indoor'}\n",
    "dict2={}\n",
    "for i in dict1:\n",
    "    dict2.setdefault(dict1[i], []).append(i)\n",
    "print(dict2)"
   ]
  },
  {
   "cell_type": "code",
   "execution_count": null,
   "id": "2c28acbb-74b5-41ba-a85e-3cbc9cc27b53",
   "metadata": {},
   "outputs": [],
   "source": []
  },
  {
   "cell_type": "code",
   "execution_count": null,
   "id": "f723f522-3168-41d1-aaaa-f9cd45315317",
   "metadata": {},
   "outputs": [],
   "source": []
  },
  {
   "cell_type": "code",
   "execution_count": null,
   "id": "fbe5c593-ad2c-49b2-b099-c0ca20590ca3",
   "metadata": {},
   "outputs": [],
   "source": []
  },
  {
   "cell_type": "code",
   "execution_count": null,
   "id": "f37cd8d2-3c4d-49de-8749-9c43fbb16c9c",
   "metadata": {},
   "outputs": [],
   "source": []
  },
  {
   "cell_type": "code",
   "execution_count": null,
   "id": "ae5b0753-249c-4eec-8ec0-6a2cdce2eaa1",
   "metadata": {},
   "outputs": [],
   "source": []
  }
 ],
 "metadata": {
  "kernelspec": {
   "display_name": "Python 3 (ipykernel)",
   "language": "python",
   "name": "python3"
  },
  "language_info": {
   "codemirror_mode": {
    "name": "ipython",
    "version": 3
   },
   "file_extension": ".py",
   "mimetype": "text/x-python",
   "name": "python",
   "nbconvert_exporter": "python",
   "pygments_lexer": "ipython3",
   "version": "3.10.8"
  }
 },
 "nbformat": 4,
 "nbformat_minor": 5
}
